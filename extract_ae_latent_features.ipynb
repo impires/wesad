{
 "cells": [
  {
   "cell_type": "code",
   "execution_count": 1,
   "metadata": {},
   "outputs": [],
   "source": [
    "from ae_feature_extractor import autoencoder"
   ]
  },
  {
   "cell_type": "code",
   "execution_count": 2,
   "metadata": {
    "scrolled": true
   },
   "outputs": [
    {
     "name": "stdout",
     "output_type": "stream",
     "text": [
      "merged train: (31029, 5, 700) (31029, 3)\n",
      "merged test : (2121, 5, 700) (2121, 3)\n"
     ]
    },
    {
     "name": "stderr",
     "output_type": "stream",
     "text": [
      "C:\\Users\\srovi\\anaconda3\\lib\\site-packages\\tensorflow\\python\\keras\\optimizer_v2\\optimizer_v2.py:374: UserWarning: The `lr` argument is deprecated, use `learning_rate` instead.\n",
      "  warnings.warn(\n"
     ]
    },
    {
     "name": "stdout",
     "output_type": "stream",
     "text": [
      "Epoch 1/10\n",
      "970/970 [==============================] - 299s 294ms/step - loss: 0.7458\n",
      "Epoch 2/10\n",
      "970/970 [==============================] - 287s 296ms/step - loss: 0.7211\n",
      "Epoch 3/10\n",
      "970/970 [==============================] - 1370s 1s/step - loss: 0.7247\n",
      "Epoch 4/10\n",
      "970/970 [==============================] - 284s 292ms/step - loss: 0.7245\n",
      "Epoch 5/10\n",
      "970/970 [==============================] - 286s 294ms/step - loss: 0.7193\n",
      "Epoch 6/10\n",
      "970/970 [==============================] - 284s 293ms/step - loss: 0.7121\n",
      "Epoch 7/10\n",
      "970/970 [==============================] - 283s 292ms/step - loss: 0.6890\n",
      "Epoch 8/10\n",
      "970/970 [==============================] - 284s 293ms/step - loss: 0.6713\n",
      "Epoch 9/10\n",
      "970/970 [==============================] - 283s 292ms/step - loss: 0.6672\n",
      "Epoch 10/10\n",
      "970/970 [==============================] - 282s 291ms/step - loss: 0.6695\n",
      "WARNING:tensorflow:Compiled the loaded model, but the compiled metrics have yet to be built. `model.compile_metrics` will be empty until you train or evaluate the model.\n",
      "saved  trained_models/c/encoder_loso2.h5\n",
      "merged train: (30996, 5, 700) (30996, 3)\n",
      "merged test : (2154, 5, 700) (2154, 3)\n"
     ]
    },
    {
     "name": "stderr",
     "output_type": "stream",
     "text": [
      "C:\\Users\\srovi\\anaconda3\\lib\\site-packages\\tensorflow\\python\\keras\\optimizer_v2\\optimizer_v2.py:374: UserWarning: The `lr` argument is deprecated, use `learning_rate` instead.\n",
      "  warnings.warn(\n"
     ]
    },
    {
     "name": "stdout",
     "output_type": "stream",
     "text": [
      "Epoch 1/10\n",
      "969/969 [==============================] - 285s 291ms/step - loss: 0.7513\n",
      "Epoch 2/10\n",
      "969/969 [==============================] - 280s 289ms/step - loss: 0.7225\n",
      "Epoch 3/10\n",
      "969/969 [==============================] - 280s 289ms/step - loss: 0.7245\n",
      "Epoch 4/10\n",
      "969/969 [==============================] - 301s 310ms/step - loss: 0.7211\n",
      "Epoch 5/10\n",
      "969/969 [==============================] - 299s 308ms/step - loss: 0.7000\n",
      "Epoch 6/10\n",
      "969/969 [==============================] - 295s 305ms/step - loss: 0.6797\n",
      "Epoch 7/10\n",
      "969/969 [==============================] - 296s 305ms/step - loss: 0.6691\n",
      "Epoch 8/10\n",
      "969/969 [==============================] - 289s 299ms/step - loss: 0.6643\n",
      "Epoch 9/10\n",
      "969/969 [==============================] - 290s 299ms/step - loss: 0.6686\n",
      "Epoch 10/10\n",
      "969/969 [==============================] - 288s 297ms/step - loss: 0.6600\n",
      "WARNING:tensorflow:Compiled the loaded model, but the compiled metrics have yet to be built. `model.compile_metrics` will be empty until you train or evaluate the model.\n",
      "saved  trained_models/c/encoder_loso3.h5\n",
      "merged train: (30985, 5, 700) (30985, 3)\n",
      "merged test : (2165, 5, 700) (2165, 3)\n"
     ]
    },
    {
     "name": "stderr",
     "output_type": "stream",
     "text": [
      "C:\\Users\\srovi\\anaconda3\\lib\\site-packages\\tensorflow\\python\\keras\\optimizer_v2\\optimizer_v2.py:374: UserWarning: The `lr` argument is deprecated, use `learning_rate` instead.\n",
      "  warnings.warn(\n"
     ]
    },
    {
     "name": "stdout",
     "output_type": "stream",
     "text": [
      "Epoch 1/10\n",
      "969/969 [==============================] - 285s 292ms/step - loss: 0.7575\n",
      "Epoch 2/10\n",
      "969/969 [==============================] - 283s 292ms/step - loss: 0.7275\n",
      "Epoch 3/10\n",
      "969/969 [==============================] - 281s 290ms/step - loss: 0.7151\n",
      "Epoch 4/10\n",
      "969/969 [==============================] - 282s 291ms/step - loss: 0.7216\n",
      "Epoch 5/10\n",
      "969/969 [==============================] - 282s 291ms/step - loss: 0.7264\n",
      "Epoch 6/10\n",
      "969/969 [==============================] - 282s 291ms/step - loss: 0.7113\n",
      "Epoch 7/10\n",
      "969/969 [==============================] - 283s 292ms/step - loss: 0.6888\n",
      "Epoch 8/10\n",
      "969/969 [==============================] - 283s 292ms/step - loss: 0.6713\n",
      "Epoch 9/10\n",
      "969/969 [==============================] - 283s 292ms/step - loss: 0.6688\n",
      "Epoch 10/10\n",
      "969/969 [==============================] - 281s 290ms/step - loss: 0.6701\n",
      "WARNING:tensorflow:Compiled the loaded model, but the compiled metrics have yet to be built. `model.compile_metrics` will be empty until you train or evaluate the model.\n",
      "saved  trained_models/c/encoder_loso4.h5\n",
      "merged train: (30933, 5, 700) (30933, 3)\n",
      "merged test : (2217, 5, 700) (2217, 3)\n"
     ]
    },
    {
     "name": "stderr",
     "output_type": "stream",
     "text": [
      "C:\\Users\\srovi\\anaconda3\\lib\\site-packages\\tensorflow\\python\\keras\\optimizer_v2\\optimizer_v2.py:374: UserWarning: The `lr` argument is deprecated, use `learning_rate` instead.\n",
      "  warnings.warn(\n"
     ]
    },
    {
     "name": "stdout",
     "output_type": "stream",
     "text": [
      "Epoch 1/10\n",
      "967/967 [==============================] - 269s 274ms/step - loss: 0.7468\n",
      "Epoch 2/10\n",
      "967/967 [==============================] - 282s 291ms/step - loss: 0.7256\n",
      "Epoch 3/10\n",
      "967/967 [==============================] - 289s 299ms/step - loss: 0.7201\n",
      "Epoch 4/10\n",
      "967/967 [==============================] - 287s 296ms/step - loss: 0.7220\n",
      "Epoch 5/10\n",
      "967/967 [==============================] - 286s 296ms/step - loss: 0.7221\n",
      "Epoch 6/10\n",
      "967/967 [==============================] - 286s 296ms/step - loss: 0.7073\n",
      "Epoch 7/10\n",
      "967/967 [==============================] - 286s 296ms/step - loss: 0.6807\n",
      "Epoch 8/10\n",
      "967/967 [==============================] - 286s 296ms/step - loss: 0.6747\n",
      "Epoch 9/10\n",
      "967/967 [==============================] - 286s 296ms/step - loss: 0.6667\n",
      "Epoch 10/10\n",
      "967/967 [==============================] - 287s 297ms/step - loss: 0.6648\n",
      "WARNING:tensorflow:Compiled the loaded model, but the compiled metrics have yet to be built. `model.compile_metrics` will be empty until you train or evaluate the model.\n",
      "saved  trained_models/c/encoder_loso5.h5\n",
      "merged train: (30948, 5, 700) (30948, 3)\n",
      "merged test : (2202, 5, 700) (2202, 3)\n"
     ]
    },
    {
     "name": "stderr",
     "output_type": "stream",
     "text": [
      "C:\\Users\\srovi\\anaconda3\\lib\\site-packages\\tensorflow\\python\\keras\\optimizer_v2\\optimizer_v2.py:374: UserWarning: The `lr` argument is deprecated, use `learning_rate` instead.\n",
      "  warnings.warn(\n"
     ]
    },
    {
     "name": "stdout",
     "output_type": "stream",
     "text": [
      "Epoch 1/10\n",
      "968/968 [==============================] - 287s 293ms/step - loss: 0.7550\n",
      "Epoch 2/10\n",
      "968/968 [==============================] - 281s 290ms/step - loss: 0.7242\n",
      "Epoch 3/10\n",
      "968/968 [==============================] - 287s 297ms/step - loss: 0.7267\n",
      "Epoch 4/10\n",
      "968/968 [==============================] - 288s 297ms/step - loss: 0.7182\n",
      "Epoch 5/10\n",
      "968/968 [==============================] - 287s 296ms/step - loss: 0.7123\n",
      "Epoch 6/10\n",
      "968/968 [==============================] - 286s 295ms/step - loss: 0.6905\n",
      "Epoch 7/10\n",
      "968/968 [==============================] - 283s 292ms/step - loss: 0.6800\n",
      "Epoch 8/10\n",
      "968/968 [==============================] - 282s 291ms/step - loss: 0.6659\n",
      "Epoch 9/10\n",
      "968/968 [==============================] - 282s 291ms/step - loss: 0.6643\n",
      "Epoch 10/10\n",
      "968/968 [==============================] - 284s 293ms/step - loss: 0.6601\n",
      "WARNING:tensorflow:Compiled the loaded model, but the compiled metrics have yet to be built. `model.compile_metrics` will be empty until you train or evaluate the model.\n",
      "saved  trained_models/c/encoder_loso6.h5\n",
      "merged train: (30952, 5, 700) (30952, 3)\n",
      "merged test : (2198, 5, 700) (2198, 3)\n"
     ]
    },
    {
     "name": "stderr",
     "output_type": "stream",
     "text": [
      "C:\\Users\\srovi\\anaconda3\\lib\\site-packages\\tensorflow\\python\\keras\\optimizer_v2\\optimizer_v2.py:374: UserWarning: The `lr` argument is deprecated, use `learning_rate` instead.\n",
      "  warnings.warn(\n"
     ]
    },
    {
     "name": "stdout",
     "output_type": "stream",
     "text": [
      "Epoch 1/10\n",
      "968/968 [==============================] - 286s 291ms/step - loss: 0.7586\n",
      "Epoch 2/10\n",
      "968/968 [==============================] - 286s 295ms/step - loss: 0.7250\n",
      "Epoch 3/10\n",
      "968/968 [==============================] - 288s 297ms/step - loss: 0.7250\n",
      "Epoch 4/10\n",
      "968/968 [==============================] - 287s 296ms/step - loss: 0.7196\n",
      "Epoch 5/10\n",
      "968/968 [==============================] - 286s 296ms/step - loss: 0.7215\n",
      "Epoch 6/10\n",
      "968/968 [==============================] - 288s 297ms/step - loss: 0.7208\n",
      "Epoch 7/10\n",
      "968/968 [==============================] - 287s 296ms/step - loss: 0.7056\n",
      "Epoch 8/10\n",
      "968/968 [==============================] - 286s 296ms/step - loss: 0.6848\n",
      "Epoch 9/10\n",
      "968/968 [==============================] - 287s 297ms/step - loss: 0.6758\n",
      "Epoch 10/10\n",
      "968/968 [==============================] - 286s 296ms/step - loss: 0.6669\n",
      "WARNING:tensorflow:Compiled the loaded model, but the compiled metrics have yet to be built. `model.compile_metrics` will be empty until you train or evaluate the model.\n",
      "saved  trained_models/c/encoder_loso7.h5\n",
      "merged train: (30942, 5, 700) (30942, 3)\n",
      "merged test : (2208, 5, 700) (2208, 3)\n"
     ]
    },
    {
     "name": "stderr",
     "output_type": "stream",
     "text": [
      "C:\\Users\\srovi\\anaconda3\\lib\\site-packages\\tensorflow\\python\\keras\\optimizer_v2\\optimizer_v2.py:374: UserWarning: The `lr` argument is deprecated, use `learning_rate` instead.\n",
      "  warnings.warn(\n"
     ]
    },
    {
     "name": "stdout",
     "output_type": "stream",
     "text": [
      "Epoch 1/10\n",
      "967/967 [==============================] - 285s 292ms/step - loss: 0.7484\n",
      "Epoch 2/10\n",
      "967/967 [==============================] - 282s 292ms/step - loss: 0.7242\n",
      "Epoch 3/10\n",
      "967/967 [==============================] - 285s 295ms/step - loss: 0.7186\n",
      "Epoch 4/10\n",
      "967/967 [==============================] - 284s 294ms/step - loss: 0.7206\n",
      "Epoch 5/10\n",
      "967/967 [==============================] - 285s 295ms/step - loss: 0.7160\n",
      "Epoch 6/10\n",
      "967/967 [==============================] - 285s 294ms/step - loss: 0.7156\n",
      "Epoch 7/10\n",
      "967/967 [==============================] - 281s 291ms/step - loss: 0.6903\n",
      "Epoch 8/10\n",
      "967/967 [==============================] - 281s 291ms/step - loss: 0.6669\n",
      "Epoch 9/10\n",
      "967/967 [==============================] - 283s 293ms/step - loss: 0.6644\n",
      "Epoch 10/10\n",
      "967/967 [==============================] - 282s 292ms/step - loss: 0.6618\n",
      "WARNING:tensorflow:Compiled the loaded model, but the compiled metrics have yet to be built. `model.compile_metrics` will be empty until you train or evaluate the model.\n",
      "saved  trained_models/c/encoder_loso8.h5\n",
      "merged train: (30953, 5, 700) (30953, 3)\n",
      "merged test : (2197, 5, 700) (2197, 3)\n"
     ]
    },
    {
     "name": "stderr",
     "output_type": "stream",
     "text": [
      "C:\\Users\\srovi\\anaconda3\\lib\\site-packages\\tensorflow\\python\\keras\\optimizer_v2\\optimizer_v2.py:374: UserWarning: The `lr` argument is deprecated, use `learning_rate` instead.\n",
      "  warnings.warn(\n"
     ]
    },
    {
     "name": "stdout",
     "output_type": "stream",
     "text": [
      "Epoch 1/10\n",
      "968/968 [==============================] - 266s 271ms/step - loss: 0.7515\n",
      "Epoch 2/10\n",
      "968/968 [==============================] - 280s 289ms/step - loss: 0.7188\n",
      "Epoch 3/10\n",
      "968/968 [==============================] - 287s 297ms/step - loss: 0.7275\n",
      "Epoch 4/10\n",
      "968/968 [==============================] - 287s 297ms/step - loss: 0.7212\n",
      "Epoch 5/10\n",
      "968/968 [==============================] - 288s 298ms/step - loss: 0.7247\n",
      "Epoch 6/10\n",
      "968/968 [==============================] - 288s 297ms/step - loss: 0.7127\n",
      "Epoch 7/10\n",
      "968/968 [==============================] - 287s 297ms/step - loss: 0.6833\n",
      "Epoch 8/10\n",
      "968/968 [==============================] - 288s 297ms/step - loss: 0.6709\n",
      "Epoch 9/10\n",
      "968/968 [==============================] - 287s 297ms/step - loss: 0.6713\n",
      "Epoch 10/10\n",
      "968/968 [==============================] - 287s 296ms/step - loss: 0.6678\n",
      "WARNING:tensorflow:Compiled the loaded model, but the compiled metrics have yet to be built. `model.compile_metrics` will be empty until you train or evaluate the model.\n",
      "saved  trained_models/c/encoder_loso9.h5\n",
      "merged train: (30873, 5, 700) (30873, 3)\n",
      "merged test : (2277, 5, 700) (2277, 3)\n"
     ]
    },
    {
     "name": "stderr",
     "output_type": "stream",
     "text": [
      "C:\\Users\\srovi\\anaconda3\\lib\\site-packages\\tensorflow\\python\\keras\\optimizer_v2\\optimizer_v2.py:374: UserWarning: The `lr` argument is deprecated, use `learning_rate` instead.\n",
      "  warnings.warn(\n"
     ]
    },
    {
     "name": "stdout",
     "output_type": "stream",
     "text": [
      "Epoch 1/10\n",
      "965/965 [==============================] - 285s 293ms/step - loss: 0.7530\n",
      "Epoch 2/10\n",
      "965/965 [==============================] - 285s 296ms/step - loss: 0.7245\n",
      "Epoch 3/10\n",
      "965/965 [==============================] - 284s 294ms/step - loss: 0.7208\n",
      "Epoch 4/10\n",
      "965/965 [==============================] - 285s 295ms/step - loss: 0.7260\n",
      "Epoch 5/10\n",
      "965/965 [==============================] - 285s 295ms/step - loss: 0.7227\n",
      "Epoch 6/10\n",
      "965/965 [==============================] - 285s 295ms/step - loss: 0.7164\n",
      "Epoch 7/10\n",
      "965/965 [==============================] - 284s 294ms/step - loss: 0.6938\n",
      "Epoch 8/10\n",
      "965/965 [==============================] - 284s 294ms/step - loss: 0.6731\n",
      "Epoch 9/10\n",
      "965/965 [==============================] - 283s 294ms/step - loss: 0.6647\n",
      "Epoch 10/10\n",
      "965/965 [==============================] - 283s 293ms/step - loss: 0.6673\n",
      "WARNING:tensorflow:Compiled the loaded model, but the compiled metrics have yet to be built. `model.compile_metrics` will be empty until you train or evaluate the model.\n",
      "saved  trained_models/c/encoder_loso10.h5\n",
      "merged train: (30922, 5, 700) (30922, 3)\n",
      "merged test : (2228, 5, 700) (2228, 3)\n"
     ]
    },
    {
     "name": "stderr",
     "output_type": "stream",
     "text": [
      "C:\\Users\\srovi\\anaconda3\\lib\\site-packages\\tensorflow\\python\\keras\\optimizer_v2\\optimizer_v2.py:374: UserWarning: The `lr` argument is deprecated, use `learning_rate` instead.\n",
      "  warnings.warn(\n"
     ]
    },
    {
     "name": "stdout",
     "output_type": "stream",
     "text": [
      "Epoch 1/10\n",
      "967/967 [==============================] - 290s 295ms/step - loss: 0.7504\n",
      "Epoch 2/10\n",
      "967/967 [==============================] - 287s 297ms/step - loss: 0.7237\n",
      "Epoch 3/10\n",
      "967/967 [==============================] - 284s 294ms/step - loss: 0.7235\n",
      "Epoch 4/10\n",
      "967/967 [==============================] - 287s 296ms/step - loss: 0.7178\n",
      "Epoch 5/10\n",
      "967/967 [==============================] - 288s 298ms/step - loss: 0.7154\n",
      "Epoch 6/10\n",
      "967/967 [==============================] - 287s 297ms/step - loss: 0.6981\n",
      "Epoch 7/10\n",
      "967/967 [==============================] - 288s 298ms/step - loss: 0.6802\n",
      "Epoch 8/10\n",
      "967/967 [==============================] - 288s 297ms/step - loss: 0.6686\n",
      "Epoch 9/10\n",
      "967/967 [==============================] - 290s 300ms/step - loss: 0.6603\n",
      "Epoch 10/10\n",
      "967/967 [==============================] - 292s 302ms/step - loss: 0.6631\n",
      "WARNING:tensorflow:Compiled the loaded model, but the compiled metrics have yet to be built. `model.compile_metrics` will be empty until you train or evaluate the model.\n",
      "saved  trained_models/c/encoder_loso11.h5\n",
      "merged train: (30924, 5, 700) (30924, 3)\n",
      "merged test : (2226, 5, 700) (2226, 3)\n"
     ]
    },
    {
     "name": "stderr",
     "output_type": "stream",
     "text": [
      "C:\\Users\\srovi\\anaconda3\\lib\\site-packages\\tensorflow\\python\\keras\\optimizer_v2\\optimizer_v2.py:374: UserWarning: The `lr` argument is deprecated, use `learning_rate` instead.\n",
      "  warnings.warn(\n"
     ]
    },
    {
     "name": "stdout",
     "output_type": "stream",
     "text": [
      "Epoch 1/10\n",
      "967/967 [==============================] - 288s 295ms/step - loss: 0.7468\n",
      "Epoch 2/10\n",
      "967/967 [==============================] - 282s 292ms/step - loss: 0.7244\n",
      "Epoch 3/10\n",
      "967/967 [==============================] - 284s 294ms/step - loss: 0.7235\n",
      "Epoch 4/10\n",
      "967/967 [==============================] - 288s 298ms/step - loss: 0.7230\n",
      "Epoch 5/10\n",
      "967/967 [==============================] - 286s 296ms/step - loss: 0.7156\n",
      "Epoch 6/10\n",
      "967/967 [==============================] - 4124s 4s/step - loss: 0.7213\n",
      "Epoch 7/10\n",
      "967/967 [==============================] - 277s 287ms/step - loss: 0.7172\n",
      "Epoch 8/10\n",
      "967/967 [==============================] - 280s 290ms/step - loss: 0.7195\n",
      "Epoch 9/10\n",
      "967/967 [==============================] - 282s 292ms/step - loss: 0.7003\n",
      "Epoch 10/10\n",
      "967/967 [==============================] - 284s 294ms/step - loss: 0.6741\n",
      "WARNING:tensorflow:Compiled the loaded model, but the compiled metrics have yet to be built. `model.compile_metrics` will be empty until you train or evaluate the model.\n",
      "saved  trained_models/c/encoder_loso13.h5\n",
      "merged train: (30923, 5, 700) (30923, 3)\n",
      "merged test : (2227, 5, 700) (2227, 3)\n"
     ]
    },
    {
     "name": "stderr",
     "output_type": "stream",
     "text": [
      "C:\\Users\\srovi\\anaconda3\\lib\\site-packages\\tensorflow\\python\\keras\\optimizer_v2\\optimizer_v2.py:374: UserWarning: The `lr` argument is deprecated, use `learning_rate` instead.\n",
      "  warnings.warn(\n"
     ]
    },
    {
     "name": "stdout",
     "output_type": "stream",
     "text": [
      "Epoch 1/10\n",
      "967/967 [==============================] - 289s 293ms/step - loss: 0.7493\n",
      "Epoch 2/10\n",
      "967/967 [==============================] - 285s 294ms/step - loss: 0.7203\n",
      "Epoch 3/10\n",
      "967/967 [==============================] - 285s 295ms/step - loss: 0.7217\n",
      "Epoch 4/10\n",
      "967/967 [==============================] - 285s 295ms/step - loss: 0.7193\n",
      "Epoch 5/10\n",
      "967/967 [==============================] - 286s 295ms/step - loss: 0.7197\n",
      "Epoch 6/10\n",
      "967/967 [==============================] - 286s 295ms/step - loss: 0.6938\n",
      "Epoch 7/10\n",
      "967/967 [==============================] - 286s 295ms/step - loss: 0.6715\n",
      "Epoch 8/10\n",
      "967/967 [==============================] - 286s 296ms/step - loss: 0.6682\n",
      "Epoch 9/10\n",
      "967/967 [==============================] - 286s 296ms/step - loss: 0.6631\n",
      "Epoch 10/10\n",
      "967/967 [==============================] - 286s 296ms/step - loss: 0.6576\n",
      "WARNING:tensorflow:Compiled the loaded model, but the compiled metrics have yet to be built. `model.compile_metrics` will be empty until you train or evaluate the model.\n",
      "saved  trained_models/c/encoder_loso14.h5\n",
      "merged train: (30917, 5, 700) (30917, 3)\n",
      "merged test : (2233, 5, 700) (2233, 3)\n"
     ]
    },
    {
     "name": "stderr",
     "output_type": "stream",
     "text": [
      "C:\\Users\\srovi\\anaconda3\\lib\\site-packages\\tensorflow\\python\\keras\\optimizer_v2\\optimizer_v2.py:374: UserWarning: The `lr` argument is deprecated, use `learning_rate` instead.\n",
      "  warnings.warn(\n"
     ]
    },
    {
     "name": "stdout",
     "output_type": "stream",
     "text": [
      "Epoch 1/10\n",
      "967/967 [==============================] - 284s 291ms/step - loss: 0.7519\n",
      "Epoch 2/10\n",
      "967/967 [==============================] - 284s 294ms/step - loss: 0.7268\n",
      "Epoch 3/10\n",
      "967/967 [==============================] - 284s 294ms/step - loss: 0.7220\n",
      "Epoch 4/10\n",
      "967/967 [==============================] - 284s 294ms/step - loss: 0.7185\n",
      "Epoch 5/10\n",
      "967/967 [==============================] - 286s 295ms/step - loss: 0.6951\n",
      "Epoch 6/10\n",
      "967/967 [==============================] - 285s 294ms/step - loss: 0.6750\n",
      "Epoch 7/10\n",
      "967/967 [==============================] - 285s 295ms/step - loss: 0.6663\n",
      "Epoch 8/10\n",
      "967/967 [==============================] - 300s 310ms/step - loss: 0.6657\n",
      "Epoch 9/10\n",
      "967/967 [==============================] - 294s 304ms/step - loss: 0.6606\n",
      "Epoch 10/10\n",
      "967/967 [==============================] - 287s 297ms/step - loss: 0.6588\n",
      "WARNING:tensorflow:Compiled the loaded model, but the compiled metrics have yet to be built. `model.compile_metrics` will be empty until you train or evaluate the model.\n",
      "saved  trained_models/c/encoder_loso15.h5\n",
      "merged train: (30929, 5, 700) (30929, 3)\n",
      "merged test : (2221, 5, 700) (2221, 3)\n"
     ]
    },
    {
     "name": "stderr",
     "output_type": "stream",
     "text": [
      "C:\\Users\\srovi\\anaconda3\\lib\\site-packages\\tensorflow\\python\\keras\\optimizer_v2\\optimizer_v2.py:374: UserWarning: The `lr` argument is deprecated, use `learning_rate` instead.\n",
      "  warnings.warn(\n"
     ]
    },
    {
     "name": "stdout",
     "output_type": "stream",
     "text": [
      "Epoch 1/10\n",
      "967/967 [==============================] - 296s 301ms/step - loss: 0.7452\n",
      "Epoch 2/10\n",
      "967/967 [==============================] - 288s 298ms/step - loss: 0.7270\n",
      "Epoch 3/10\n",
      "967/967 [==============================] - 287s 297ms/step - loss: 0.7205\n",
      "Epoch 4/10\n",
      "967/967 [==============================] - 287s 297ms/step - loss: 0.7189\n",
      "Epoch 5/10\n",
      "967/967 [==============================] - 288s 297ms/step - loss: 0.7193\n",
      "Epoch 6/10\n",
      "967/967 [==============================] - 287s 297ms/step - loss: 0.7031\n",
      "Epoch 7/10\n",
      "967/967 [==============================] - 287s 297ms/step - loss: 0.6852\n",
      "Epoch 8/10\n",
      "967/967 [==============================] - 286s 296ms/step - loss: 0.6714\n",
      "Epoch 9/10\n",
      "967/967 [==============================] - 285s 295ms/step - loss: 0.6681\n",
      "Epoch 10/10\n",
      "967/967 [==============================] - 288s 298ms/step - loss: 0.6648\n",
      "WARNING:tensorflow:Compiled the loaded model, but the compiled metrics have yet to be built. `model.compile_metrics` will be empty until you train or evaluate the model.\n",
      "saved  trained_models/c/encoder_loso16.h5\n",
      "merged train: (30874, 5, 700) (30874, 3)\n",
      "merged test : (2276, 5, 700) (2276, 3)\n"
     ]
    },
    {
     "name": "stderr",
     "output_type": "stream",
     "text": [
      "C:\\Users\\srovi\\anaconda3\\lib\\site-packages\\tensorflow\\python\\keras\\optimizer_v2\\optimizer_v2.py:374: UserWarning: The `lr` argument is deprecated, use `learning_rate` instead.\n",
      "  warnings.warn(\n"
     ]
    },
    {
     "name": "stdout",
     "output_type": "stream",
     "text": [
      "Epoch 1/10\n",
      "965/965 [==============================] - 286s 294ms/step - loss: 0.7557\n",
      "Epoch 2/10\n",
      "965/965 [==============================] - 281s 291ms/step - loss: 0.7330\n",
      "Epoch 3/10\n",
      "965/965 [==============================] - 281s 292ms/step - loss: 0.7185\n",
      "Epoch 4/10\n",
      "965/965 [==============================] - 284s 295ms/step - loss: 0.7193\n",
      "Epoch 5/10\n",
      "965/965 [==============================] - 284s 294ms/step - loss: 0.7141\n",
      "Epoch 6/10\n",
      "965/965 [==============================] - 285s 295ms/step - loss: 0.6864\n",
      "Epoch 7/10\n",
      "965/965 [==============================] - 282s 292ms/step - loss: 0.6762\n",
      "Epoch 8/10\n",
      "965/965 [==============================] - 281s 291ms/step - loss: 0.6682\n",
      "Epoch 9/10\n",
      "965/965 [==============================] - 281s 291ms/step - loss: 0.6653\n",
      "Epoch 10/10\n",
      "965/965 [==============================] - 283s 293ms/step - loss: 0.6625\n",
      "WARNING:tensorflow:Compiled the loaded model, but the compiled metrics have yet to be built. `model.compile_metrics` will be empty until you train or evaluate the model.\n",
      "saved  trained_models/c/encoder_loso17.h5\n",
      "============= test subject 2 ==================\n",
      "merged train: (31029, 5, 700) (31029, 3)\n",
      "merged test : (2121, 5, 700) (2121, 3)\n",
      "merged train: (31031, 1, 64) (31031, 3)\n",
      "merged test : (2121, 1, 64) (2121, 3)\n",
      "merged train: (31030, 2, 4) (31030, 3)\n",
      "merged test : (2121, 2, 4) (2121, 3)\n"
     ]
    },
    {
     "name": "stderr",
     "output_type": "stream",
     "text": [
      "C:\\Users\\srovi\\anaconda3\\lib\\site-packages\\tensorflow\\python\\keras\\optimizer_v2\\optimizer_v2.py:374: UserWarning: The `lr` argument is deprecated, use `learning_rate` instead.\n",
      "  warnings.warn(\n"
     ]
    },
    {
     "name": "stdout",
     "output_type": "stream",
     "text": [
      "Epoch 1/4\n",
      "970/970 [==============================] - 6s 3ms/step - loss: 1.0201\n",
      "Epoch 2/4\n",
      "970/970 [==============================] - 2s 3ms/step - loss: 0.7431\n",
      "Epoch 3/4\n",
      "970/970 [==============================] - 2s 3ms/step - loss: 0.7392\n",
      "Epoch 4/4\n",
      "970/970 [==============================] - 2s 2ms/step - loss: 0.7303\n",
      "Epoch 1/4\n",
      "970/970 [==============================] - 2s 1ms/step - loss: 1.0706\n",
      "Epoch 2/4\n",
      "970/970 [==============================] - 1s 1ms/step - loss: 0.5638\n",
      "Epoch 3/4\n",
      "970/970 [==============================] - 1s 1ms/step - loss: 0.5320\n",
      "Epoch 4/4\n",
      "970/970 [==============================] - 1s 1ms/step - loss: 0.5223\n",
      "WARNING:tensorflow:No training configuration found in the save file, so the model was *not* compiled. Compile it manually.\n",
      "loaded:  trained_models/c/encoder_loso2.h5\n",
      "emb_trainw1.shape:  (31031, 40)\n",
      "emb_trainw2.shape:  (31030, 4)\n",
      "emb_train.shape:  (31029, 80)\n",
      "emb_testw1.shape:  (2121, 40)\n",
      "emb_testw2.shape:  (2121, 4)\n",
      "emb_test.shape:  (2121, 80)\n",
      "============= test subject 3 ==================\n",
      "merged train: (30996, 5, 700) (30996, 3)\n",
      "merged test : (2154, 5, 700) (2154, 3)\n",
      "merged train: (30997, 1, 64) (30997, 3)\n",
      "merged test : (2155, 1, 64) (2155, 3)\n",
      "merged train: (30996, 2, 4) (30996, 3)\n",
      "merged test : (2155, 2, 4) (2155, 3)\n"
     ]
    },
    {
     "name": "stderr",
     "output_type": "stream",
     "text": [
      "C:\\Users\\srovi\\anaconda3\\lib\\site-packages\\tensorflow\\python\\keras\\optimizer_v2\\optimizer_v2.py:374: UserWarning: The `lr` argument is deprecated, use `learning_rate` instead.\n",
      "  warnings.warn(\n"
     ]
    },
    {
     "name": "stdout",
     "output_type": "stream",
     "text": [
      "Epoch 1/4\n",
      "969/969 [==============================] - 5s 2ms/step - loss: 1.0188\n",
      "Epoch 2/4\n",
      "969/969 [==============================] - 2s 2ms/step - loss: 0.7403\n",
      "Epoch 3/4\n",
      "969/969 [==============================] - 2s 2ms/step - loss: 0.7365\n",
      "Epoch 4/4\n",
      "969/969 [==============================] - 2s 2ms/step - loss: 0.7470\n",
      "Epoch 1/4\n",
      "969/969 [==============================] - 2s 1ms/step - loss: 1.0449\n",
      "Epoch 2/4\n",
      "969/969 [==============================] - 1s 1ms/step - loss: 0.6316\n",
      "Epoch 3/4\n",
      "969/969 [==============================] - 1s 1ms/step - loss: 0.5494\n",
      "Epoch 4/4\n",
      "969/969 [==============================] - 1s 1ms/step - loss: 0.5460\n",
      "WARNING:tensorflow:No training configuration found in the save file, so the model was *not* compiled. Compile it manually.\n",
      "loaded:  trained_models/c/encoder_loso3.h5\n",
      "emb_trainw1.shape:  (30997, 40)\n",
      "emb_trainw2.shape:  (30996, 4)\n",
      "emb_train.shape:  (30996, 80)\n",
      "emb_testw1.shape:  (2155, 40)\n",
      "emb_testw2.shape:  (2155, 4)\n",
      "emb_test.shape:  (2154, 80)\n",
      "============= test subject 4 ==================\n",
      "merged train: (30985, 5, 700) (30985, 3)\n",
      "merged test : (2165, 5, 700) (2165, 3)\n",
      "merged train: (30987, 1, 64) (30987, 3)\n",
      "merged test : (2165, 1, 64) (2165, 3)\n",
      "merged train: (30986, 2, 4) (30986, 3)\n",
      "merged test : (2165, 2, 4) (2165, 3)\n"
     ]
    },
    {
     "name": "stderr",
     "output_type": "stream",
     "text": [
      "C:\\Users\\srovi\\anaconda3\\lib\\site-packages\\tensorflow\\python\\keras\\optimizer_v2\\optimizer_v2.py:374: UserWarning: The `lr` argument is deprecated, use `learning_rate` instead.\n",
      "  warnings.warn(\n"
     ]
    },
    {
     "name": "stdout",
     "output_type": "stream",
     "text": [
      "Epoch 1/4\n",
      "969/969 [==============================] - 5s 3ms/step - loss: 0.9750\n",
      "Epoch 2/4\n",
      "969/969 [==============================] - 2s 2ms/step - loss: 0.7565\n",
      "Epoch 3/4\n",
      "969/969 [==============================] - 2s 3ms/step - loss: 0.7199\n",
      "Epoch 4/4\n",
      "969/969 [==============================] - 2s 2ms/step - loss: 0.7468\n",
      "Epoch 1/4\n",
      "969/969 [==============================] - 2s 1ms/step - loss: 1.0917\n",
      "Epoch 2/4\n",
      "969/969 [==============================] - 1s 1ms/step - loss: 0.6238\n",
      "Epoch 3/4\n",
      "969/969 [==============================] - 1s 1ms/step - loss: 0.5324\n",
      "Epoch 4/4\n",
      "969/969 [==============================] - 1s 1ms/step - loss: 0.5245\n",
      "WARNING:tensorflow:No training configuration found in the save file, so the model was *not* compiled. Compile it manually.\n",
      "loaded:  trained_models/c/encoder_loso4.h5\n",
      "emb_trainw1.shape:  (30987, 40)\n",
      "emb_trainw2.shape:  (30986, 4)\n",
      "emb_train.shape:  (30985, 80)\n",
      "emb_testw1.shape:  (2165, 40)\n",
      "emb_testw2.shape:  (2165, 4)\n",
      "emb_test.shape:  (2165, 80)\n",
      "============= test subject 5 ==================\n",
      "merged train: (30933, 5, 700) (30933, 3)\n",
      "merged test : (2217, 5, 700) (2217, 3)\n",
      "merged train: (30935, 1, 64) (30935, 3)\n",
      "merged test : (2217, 1, 64) (2217, 3)\n",
      "merged train: (30934, 2, 4) (30934, 3)\n",
      "merged test : (2217, 2, 4) (2217, 3)\n"
     ]
    },
    {
     "name": "stderr",
     "output_type": "stream",
     "text": [
      "C:\\Users\\srovi\\anaconda3\\lib\\site-packages\\tensorflow\\python\\keras\\optimizer_v2\\optimizer_v2.py:374: UserWarning: The `lr` argument is deprecated, use `learning_rate` instead.\n",
      "  warnings.warn(\n"
     ]
    },
    {
     "name": "stdout",
     "output_type": "stream",
     "text": [
      "Epoch 1/4\n",
      "967/967 [==============================] - 6s 3ms/step - loss: 0.9825\n",
      "Epoch 2/4\n",
      "967/967 [==============================] - 2s 2ms/step - loss: 0.7475\n",
      "Epoch 3/4\n",
      "967/967 [==============================] - 2s 2ms/step - loss: 0.7386\n",
      "Epoch 4/4\n",
      "967/967 [==============================] - 2s 2ms/step - loss: 0.7351\n",
      "Epoch 1/4\n",
      "967/967 [==============================] - 2s 1ms/step - loss: 1.1482\n",
      "Epoch 2/4\n",
      "967/967 [==============================] - 1s 1ms/step - loss: 0.7026\n",
      "Epoch 3/4\n",
      "967/967 [==============================] - 1s 1ms/step - loss: 0.5494\n",
      "Epoch 4/4\n",
      "967/967 [==============================] - 1s 1ms/step - loss: 0.5305\n",
      "WARNING:tensorflow:No training configuration found in the save file, so the model was *not* compiled. Compile it manually.\n",
      "loaded:  trained_models/c/encoder_loso5.h5\n",
      "emb_trainw1.shape:  (30935, 40)\n",
      "emb_trainw2.shape:  (30934, 4)\n",
      "emb_train.shape:  (30933, 80)\n",
      "emb_testw1.shape:  (2217, 40)\n",
      "emb_testw2.shape:  (2217, 4)\n",
      "emb_test.shape:  (2217, 80)\n",
      "============= test subject 6 ==================\n",
      "merged train: (30948, 5, 700) (30948, 3)\n",
      "merged test : (2202, 5, 700) (2202, 3)\n",
      "merged train: (30950, 1, 64) (30950, 3)\n",
      "merged test : (2202, 1, 64) (2202, 3)\n",
      "merged train: (30949, 2, 4) (30949, 3)\n",
      "merged test : (2202, 2, 4) (2202, 3)\n"
     ]
    },
    {
     "name": "stderr",
     "output_type": "stream",
     "text": [
      "C:\\Users\\srovi\\anaconda3\\lib\\site-packages\\tensorflow\\python\\keras\\optimizer_v2\\optimizer_v2.py:374: UserWarning: The `lr` argument is deprecated, use `learning_rate` instead.\n",
      "  warnings.warn(\n"
     ]
    },
    {
     "name": "stdout",
     "output_type": "stream",
     "text": [
      "Epoch 1/4\n",
      "968/968 [==============================] - 5s 3ms/step - loss: 0.9787\n",
      "Epoch 2/4\n",
      "968/968 [==============================] - 2s 2ms/step - loss: 0.7262\n",
      "Epoch 3/4\n",
      "968/968 [==============================] - 2s 2ms/step - loss: 0.7373\n",
      "Epoch 4/4\n",
      "968/968 [==============================] - 2s 3ms/step - loss: 0.7099\n",
      "Epoch 1/4\n",
      "968/968 [==============================] - 2s 1ms/step - loss: 1.1202\n",
      "Epoch 2/4\n",
      "968/968 [==============================] - 1s 1ms/step - loss: 0.7209\n",
      "Epoch 3/4\n",
      "968/968 [==============================] - 1s 1ms/step - loss: 0.5458\n",
      "Epoch 4/4\n",
      "968/968 [==============================] - 1s 1ms/step - loss: 0.5320\n",
      "WARNING:tensorflow:No training configuration found in the save file, so the model was *not* compiled. Compile it manually.\n",
      "loaded:  trained_models/c/encoder_loso6.h5\n",
      "emb_trainw1.shape:  (30950, 40)\n",
      "emb_trainw2.shape:  (30949, 4)\n",
      "emb_train.shape:  (30948, 80)\n",
      "emb_testw1.shape:  (2202, 40)\n",
      "emb_testw2.shape:  (2202, 4)\n",
      "emb_test.shape:  (2202, 80)\n",
      "============= test subject 7 ==================\n",
      "merged train: (30952, 5, 700) (30952, 3)\n",
      "merged test : (2198, 5, 700) (2198, 3)\n",
      "merged train: (30954, 1, 64) (30954, 3)\n",
      "merged test : (2198, 1, 64) (2198, 3)\n",
      "merged train: (30953, 2, 4) (30953, 3)\n",
      "merged test : (2198, 2, 4) (2198, 3)\n"
     ]
    },
    {
     "name": "stderr",
     "output_type": "stream",
     "text": [
      "C:\\Users\\srovi\\anaconda3\\lib\\site-packages\\tensorflow\\python\\keras\\optimizer_v2\\optimizer_v2.py:374: UserWarning: The `lr` argument is deprecated, use `learning_rate` instead.\n",
      "  warnings.warn(\n"
     ]
    },
    {
     "name": "stdout",
     "output_type": "stream",
     "text": [
      "Epoch 1/4\n",
      "968/968 [==============================] - 6s 3ms/step - loss: 0.9781\n",
      "Epoch 2/4\n",
      "968/968 [==============================] - 2s 3ms/step - loss: 0.7559\n",
      "Epoch 3/4\n",
      "968/968 [==============================] - 2s 3ms/step - loss: 0.7186\n",
      "Epoch 4/4\n",
      "968/968 [==============================] - 2s 3ms/step - loss: 0.7299\n",
      "Epoch 1/4\n",
      "968/968 [==============================] - 2s 1ms/step - loss: 1.1252\n",
      "Epoch 2/4\n",
      "968/968 [==============================] - 1s 1ms/step - loss: 0.6076\n",
      "Epoch 3/4\n",
      "968/968 [==============================] - 1s 1ms/step - loss: 0.5561\n",
      "Epoch 4/4\n",
      "968/968 [==============================] - 1s 1ms/step - loss: 0.5290\n",
      "WARNING:tensorflow:No training configuration found in the save file, so the model was *not* compiled. Compile it manually.\n",
      "loaded:  trained_models/c/encoder_loso7.h5\n",
      "emb_trainw1.shape:  (30954, 40)\n",
      "emb_trainw2.shape:  (30953, 4)\n",
      "emb_train.shape:  (30952, 80)\n",
      "emb_testw1.shape:  (2198, 40)\n",
      "emb_testw2.shape:  (2198, 4)\n",
      "emb_test.shape:  (2198, 80)\n",
      "============= test subject 8 ==================\n",
      "merged train: (30942, 5, 700) (30942, 3)\n",
      "merged test : (2208, 5, 700) (2208, 3)\n",
      "merged train: (30943, 1, 64) (30943, 3)\n",
      "merged test : (2209, 1, 64) (2209, 3)\n",
      "merged train: (30942, 2, 4) (30942, 3)\n",
      "merged test : (2209, 2, 4) (2209, 3)\n"
     ]
    },
    {
     "name": "stderr",
     "output_type": "stream",
     "text": [
      "C:\\Users\\srovi\\anaconda3\\lib\\site-packages\\tensorflow\\python\\keras\\optimizer_v2\\optimizer_v2.py:374: UserWarning: The `lr` argument is deprecated, use `learning_rate` instead.\n",
      "  warnings.warn(\n"
     ]
    },
    {
     "name": "stdout",
     "output_type": "stream",
     "text": [
      "Epoch 1/4\n",
      "967/967 [==============================] - 5s 2ms/step - loss: 0.9843\n",
      "Epoch 2/4\n",
      "967/967 [==============================] - 2s 2ms/step - loss: 0.7430\n",
      "Epoch 3/4\n",
      "967/967 [==============================] - 2s 2ms/step - loss: 0.7246\n",
      "Epoch 4/4\n",
      "967/967 [==============================] - 2s 2ms/step - loss: 0.7164\n",
      "Epoch 1/4\n",
      "967/967 [==============================] - 2s 1ms/step - loss: 1.0950\n",
      "Epoch 2/4\n",
      "967/967 [==============================] - 1s 1ms/step - loss: 0.6810\n",
      "Epoch 3/4\n",
      "967/967 [==============================] - 1s 1ms/step - loss: 0.5640\n",
      "Epoch 4/4\n",
      "967/967 [==============================] - 1s 1ms/step - loss: 0.5404\n",
      "WARNING:tensorflow:No training configuration found in the save file, so the model was *not* compiled. Compile it manually.\n",
      "loaded:  trained_models/c/encoder_loso8.h5\n",
      "emb_trainw1.shape:  (30943, 40)\n",
      "emb_trainw2.shape:  (30942, 4)\n",
      "emb_train.shape:  (30942, 80)\n",
      "emb_testw1.shape:  (2209, 40)\n",
      "emb_testw2.shape:  (2209, 4)\n",
      "emb_test.shape:  (2208, 80)\n",
      "============= test subject 9 ==================\n",
      "merged train: (30953, 5, 700) (30953, 3)\n",
      "merged test : (2197, 5, 700) (2197, 3)\n",
      "merged train: (30955, 1, 64) (30955, 3)\n",
      "merged test : (2197, 1, 64) (2197, 3)\n",
      "merged train: (30954, 2, 4) (30954, 3)\n",
      "merged test : (2197, 2, 4) (2197, 3)\n"
     ]
    },
    {
     "name": "stderr",
     "output_type": "stream",
     "text": [
      "C:\\Users\\srovi\\anaconda3\\lib\\site-packages\\tensorflow\\python\\keras\\optimizer_v2\\optimizer_v2.py:374: UserWarning: The `lr` argument is deprecated, use `learning_rate` instead.\n",
      "  warnings.warn(\n"
     ]
    },
    {
     "name": "stdout",
     "output_type": "stream",
     "text": [
      "Epoch 1/4\n",
      "968/968 [==============================] - 4s 3ms/step - loss: 0.9934\n",
      "Epoch 2/4\n",
      "968/968 [==============================] - 2s 2ms/step - loss: 0.7712\n",
      "Epoch 3/4\n",
      "968/968 [==============================] - 2s 2ms/step - loss: 0.7378\n",
      "Epoch 4/4\n",
      "968/968 [==============================] - 2s 2ms/step - loss: 0.7318\n",
      "Epoch 1/4\n",
      "968/968 [==============================] - 2s 1ms/step - loss: 1.1052\n",
      "Epoch 2/4\n",
      "968/968 [==============================] - 1s 1ms/step - loss: 0.6055\n",
      "Epoch 3/4\n",
      "968/968 [==============================] - 1s 1ms/step - loss: 0.5265\n",
      "Epoch 4/4\n",
      "968/968 [==============================] - 1s 1ms/step - loss: 0.5286\n",
      "WARNING:tensorflow:No training configuration found in the save file, so the model was *not* compiled. Compile it manually.\n",
      "loaded:  trained_models/c/encoder_loso9.h5\n",
      "emb_trainw1.shape:  (30955, 40)\n",
      "emb_trainw2.shape:  (30954, 4)\n",
      "emb_train.shape:  (30953, 80)\n",
      "emb_testw1.shape:  (2197, 40)\n",
      "emb_testw2.shape:  (2197, 4)\n",
      "emb_test.shape:  (2197, 80)\n",
      "============= test subject 10 ==================\n",
      "merged train: (30873, 5, 700) (30873, 3)\n",
      "merged test : (2277, 5, 700) (2277, 3)\n",
      "merged train: (30875, 1, 64) (30875, 3)\n",
      "merged test : (2277, 1, 64) (2277, 3)\n",
      "merged train: (30874, 2, 4) (30874, 3)\n",
      "merged test : (2277, 2, 4) (2277, 3)\n"
     ]
    },
    {
     "name": "stderr",
     "output_type": "stream",
     "text": [
      "C:\\Users\\srovi\\anaconda3\\lib\\site-packages\\tensorflow\\python\\keras\\optimizer_v2\\optimizer_v2.py:374: UserWarning: The `lr` argument is deprecated, use `learning_rate` instead.\n",
      "  warnings.warn(\n"
     ]
    },
    {
     "name": "stdout",
     "output_type": "stream",
     "text": [
      "Epoch 1/4\n",
      "965/965 [==============================] - 4s 2ms/step - loss: 0.9679\n",
      "Epoch 2/4\n",
      "965/965 [==============================] - 2s 2ms/step - loss: 0.7553\n",
      "Epoch 3/4\n",
      "965/965 [==============================] - 2s 2ms/step - loss: 0.7146\n",
      "Epoch 4/4\n",
      "965/965 [==============================] - 2s 2ms/step - loss: 0.7230\n",
      "Epoch 1/4\n",
      "965/965 [==============================] - 2s 1ms/step - loss: 1.1496\n",
      "Epoch 2/4\n",
      "965/965 [==============================] - 1s 1ms/step - loss: 0.6150\n",
      "Epoch 3/4\n",
      "965/965 [==============================] - 1s 1ms/step - loss: 0.5232\n",
      "Epoch 4/4\n",
      "965/965 [==============================] - 1s 1ms/step - loss: 0.5211\n",
      "WARNING:tensorflow:No training configuration found in the save file, so the model was *not* compiled. Compile it manually.\n",
      "loaded:  trained_models/c/encoder_loso10.h5\n",
      "emb_trainw1.shape:  (30875, 40)\n",
      "emb_trainw2.shape:  (30874, 4)\n",
      "emb_train.shape:  (30873, 80)\n",
      "emb_testw1.shape:  (2277, 40)\n",
      "emb_testw2.shape:  (2277, 4)\n",
      "emb_test.shape:  (2277, 80)\n",
      "============= test subject 11 ==================\n",
      "merged train: (30922, 5, 700) (30922, 3)\n",
      "merged test : (2228, 5, 700) (2228, 3)\n",
      "merged train: (30924, 1, 64) (30924, 3)\n",
      "merged test : (2228, 1, 64) (2228, 3)\n",
      "merged train: (30924, 2, 4) (30924, 3)\n",
      "merged test : (2227, 2, 4) (2227, 3)\n"
     ]
    },
    {
     "name": "stderr",
     "output_type": "stream",
     "text": [
      "C:\\Users\\srovi\\anaconda3\\lib\\site-packages\\tensorflow\\python\\keras\\optimizer_v2\\optimizer_v2.py:374: UserWarning: The `lr` argument is deprecated, use `learning_rate` instead.\n",
      "  warnings.warn(\n"
     ]
    },
    {
     "name": "stdout",
     "output_type": "stream",
     "text": [
      "Epoch 1/4\n",
      "967/967 [==============================] - 4s 2ms/step - loss: 1.0132\n",
      "Epoch 2/4\n",
      "967/967 [==============================] - 2s 2ms/step - loss: 0.7547\n",
      "Epoch 3/4\n",
      "967/967 [==============================] - 2s 2ms/step - loss: 0.7205\n",
      "Epoch 4/4\n",
      "967/967 [==============================] - 2s 2ms/step - loss: 0.7416\n",
      "Epoch 1/4\n",
      "967/967 [==============================] - 2s 1ms/step - loss: 1.0867\n",
      "Epoch 2/4\n",
      "967/967 [==============================] - 1s 1ms/step - loss: 0.6681\n",
      "Epoch 3/4\n",
      "967/967 [==============================] - 1s 1ms/step - loss: 0.5369\n",
      "Epoch 4/4\n",
      "967/967 [==============================] - 1s 1ms/step - loss: 0.5242\n",
      "WARNING:tensorflow:No training configuration found in the save file, so the model was *not* compiled. Compile it manually.\n",
      "loaded:  trained_models/c/encoder_loso11.h5\n",
      "emb_trainw1.shape:  (30924, 40)\n",
      "emb_trainw2.shape:  (30924, 4)\n",
      "emb_train.shape:  (30922, 80)\n",
      "emb_testw1.shape:  (2228, 40)\n",
      "emb_testw2.shape:  (2227, 4)\n",
      "emb_test.shape:  (2228, 80)\n",
      "============= test subject 13 ==================\n",
      "merged train: (30924, 5, 700) (30924, 3)\n",
      "merged test : (2226, 5, 700) (2226, 3)\n",
      "merged train: (30926, 1, 64) (30926, 3)\n",
      "merged test : (2226, 1, 64) (2226, 3)\n",
      "merged train: (30925, 2, 4) (30925, 3)\n",
      "merged test : (2226, 2, 4) (2226, 3)\n"
     ]
    },
    {
     "name": "stderr",
     "output_type": "stream",
     "text": [
      "C:\\Users\\srovi\\anaconda3\\lib\\site-packages\\tensorflow\\python\\keras\\optimizer_v2\\optimizer_v2.py:374: UserWarning: The `lr` argument is deprecated, use `learning_rate` instead.\n",
      "  warnings.warn(\n"
     ]
    },
    {
     "name": "stdout",
     "output_type": "stream",
     "text": [
      "Epoch 1/4\n",
      "967/967 [==============================] - 4s 2ms/step - loss: 1.0153\n",
      "Epoch 2/4\n",
      "967/967 [==============================] - 2s 2ms/step - loss: 0.7452\n",
      "Epoch 3/4\n",
      "967/967 [==============================] - 2s 2ms/step - loss: 0.7368\n",
      "Epoch 4/4\n",
      "967/967 [==============================] - 2s 2ms/step - loss: 0.7639\n",
      "Epoch 1/4\n",
      "967/967 [==============================] - 2s 1ms/step - loss: 1.0587\n",
      "Epoch 2/4\n",
      "967/967 [==============================] - 1s 1ms/step - loss: 0.5869\n",
      "Epoch 3/4\n",
      "967/967 [==============================] - 1s 1ms/step - loss: 0.5210\n",
      "Epoch 4/4\n",
      "967/967 [==============================] - 1s 1ms/step - loss: 0.5169\n",
      "WARNING:tensorflow:No training configuration found in the save file, so the model was *not* compiled. Compile it manually.\n",
      "loaded:  trained_models/c/encoder_loso13.h5\n",
      "emb_trainw1.shape:  (30926, 40)\n",
      "emb_trainw2.shape:  (30925, 4)\n",
      "emb_train.shape:  (30924, 80)\n",
      "emb_testw1.shape:  (2226, 40)\n",
      "emb_testw2.shape:  (2226, 4)\n",
      "emb_test.shape:  (2226, 80)\n",
      "============= test subject 14 ==================\n",
      "merged train: (30923, 5, 700) (30923, 3)\n",
      "merged test : (2227, 5, 700) (2227, 3)\n",
      "merged train: (30925, 1, 64) (30925, 3)\n",
      "merged test : (2227, 1, 64) (2227, 3)\n",
      "merged train: (30924, 2, 4) (30924, 3)\n",
      "merged test : (2227, 2, 4) (2227, 3)\n"
     ]
    },
    {
     "name": "stderr",
     "output_type": "stream",
     "text": [
      "C:\\Users\\srovi\\anaconda3\\lib\\site-packages\\tensorflow\\python\\keras\\optimizer_v2\\optimizer_v2.py:374: UserWarning: The `lr` argument is deprecated, use `learning_rate` instead.\n",
      "  warnings.warn(\n"
     ]
    },
    {
     "name": "stdout",
     "output_type": "stream",
     "text": [
      "Epoch 1/4\n",
      "967/967 [==============================] - 6s 3ms/step - loss: 1.0168\n",
      "Epoch 2/4\n",
      "967/967 [==============================] - 2s 2ms/step - loss: 0.7633\n",
      "Epoch 3/4\n",
      "967/967 [==============================] - 2s 2ms/step - loss: 0.7663\n",
      "Epoch 4/4\n",
      "967/967 [==============================] - 2s 2ms/step - loss: 0.7211\n",
      "Epoch 1/4\n",
      "967/967 [==============================] - 2s 1ms/step - loss: 0.9876\n",
      "Epoch 2/4\n",
      "967/967 [==============================] - 1s 1ms/step - loss: 0.5600\n",
      "Epoch 3/4\n",
      "967/967 [==============================] - 1s 1ms/step - loss: 0.5323\n",
      "Epoch 4/4\n",
      "967/967 [==============================] - 1s 1ms/step - loss: 0.5288\n",
      "WARNING:tensorflow:No training configuration found in the save file, so the model was *not* compiled. Compile it manually.\n",
      "loaded:  trained_models/c/encoder_loso14.h5\n",
      "emb_trainw1.shape:  (30925, 40)\n",
      "emb_trainw2.shape:  (30924, 4)\n",
      "emb_train.shape:  (30923, 80)\n",
      "emb_testw1.shape:  (2227, 40)\n",
      "emb_testw2.shape:  (2227, 4)\n",
      "emb_test.shape:  (2227, 80)\n",
      "============= test subject 15 ==================\n",
      "merged train: (30917, 5, 700) (30917, 3)\n",
      "merged test : (2233, 5, 700) (2233, 3)\n",
      "merged train: (30919, 1, 64) (30919, 3)\n",
      "merged test : (2233, 1, 64) (2233, 3)\n",
      "merged train: (30918, 2, 4) (30918, 3)\n",
      "merged test : (2233, 2, 4) (2233, 3)\n"
     ]
    },
    {
     "name": "stderr",
     "output_type": "stream",
     "text": [
      "C:\\Users\\srovi\\anaconda3\\lib\\site-packages\\tensorflow\\python\\keras\\optimizer_v2\\optimizer_v2.py:374: UserWarning: The `lr` argument is deprecated, use `learning_rate` instead.\n",
      "  warnings.warn(\n"
     ]
    },
    {
     "name": "stdout",
     "output_type": "stream",
     "text": [
      "Epoch 1/4\n",
      "967/967 [==============================] - 4s 3ms/step - loss: 0.9915\n",
      "Epoch 2/4\n",
      "967/967 [==============================] - 2s 2ms/step - loss: 0.7492\n",
      "Epoch 3/4\n",
      "967/967 [==============================] - 2s 2ms/step - loss: 0.7260\n",
      "Epoch 4/4\n",
      "967/967 [==============================] - 2s 2ms/step - loss: 0.7140\n",
      "Epoch 1/4\n",
      "967/967 [==============================] - 2s 1ms/step - loss: 1.0342\n",
      "Epoch 2/4\n",
      "967/967 [==============================] - 1s 1ms/step - loss: 0.6330\n",
      "Epoch 3/4\n",
      "967/967 [==============================] - 1s 1ms/step - loss: 0.5458\n",
      "Epoch 4/4\n",
      "967/967 [==============================] - 1s 1ms/step - loss: 0.5258\n",
      "WARNING:tensorflow:No training configuration found in the save file, so the model was *not* compiled. Compile it manually.\n",
      "loaded:  trained_models/c/encoder_loso15.h5\n",
      "emb_trainw1.shape:  (30919, 40)\n",
      "emb_trainw2.shape:  (30918, 4)\n",
      "emb_train.shape:  (30917, 80)\n",
      "emb_testw1.shape:  (2233, 40)\n",
      "emb_testw2.shape:  (2233, 4)\n",
      "emb_test.shape:  (2233, 80)\n",
      "============= test subject 16 ==================\n",
      "merged train: (30929, 5, 700) (30929, 3)\n",
      "merged test : (2221, 5, 700) (2221, 3)\n",
      "merged train: (30931, 1, 64) (30931, 3)\n",
      "merged test : (2221, 1, 64) (2221, 3)\n",
      "merged train: (30930, 2, 4) (30930, 3)\n",
      "merged test : (2221, 2, 4) (2221, 3)\n"
     ]
    },
    {
     "name": "stderr",
     "output_type": "stream",
     "text": [
      "C:\\Users\\srovi\\anaconda3\\lib\\site-packages\\tensorflow\\python\\keras\\optimizer_v2\\optimizer_v2.py:374: UserWarning: The `lr` argument is deprecated, use `learning_rate` instead.\n",
      "  warnings.warn(\n"
     ]
    },
    {
     "name": "stdout",
     "output_type": "stream",
     "text": [
      "Epoch 1/4\n",
      "967/967 [==============================] - 4s 2ms/step - loss: 0.9747\n",
      "Epoch 2/4\n",
      "967/967 [==============================] - 2s 2ms/step - loss: 0.7389\n",
      "Epoch 3/4\n",
      "967/967 [==============================] - 2s 2ms/step - loss: 0.7337\n",
      "Epoch 4/4\n",
      "967/967 [==============================] - 2s 2ms/step - loss: 0.7318\n",
      "Epoch 1/4\n",
      "967/967 [==============================] - 2s 1ms/step - loss: 1.1442\n",
      "Epoch 2/4\n",
      "967/967 [==============================] - 1s 1ms/step - loss: 0.6578\n",
      "Epoch 3/4\n",
      "967/967 [==============================] - 1s 1ms/step - loss: 0.5481\n",
      "Epoch 4/4\n",
      "967/967 [==============================] - 1s 1ms/step - loss: 0.5285\n",
      "WARNING:tensorflow:No training configuration found in the save file, so the model was *not* compiled. Compile it manually.\n",
      "loaded:  trained_models/c/encoder_loso16.h5\n",
      "emb_trainw1.shape:  (30931, 40)\n",
      "emb_trainw2.shape:  (30930, 4)\n",
      "emb_train.shape:  (30929, 80)\n",
      "emb_testw1.shape:  (2221, 40)\n",
      "emb_testw2.shape:  (2221, 4)\n",
      "emb_test.shape:  (2221, 80)\n",
      "============= test subject 17 ==================\n",
      "merged train: (30874, 5, 700) (30874, 3)\n",
      "merged test : (2276, 5, 700) (2276, 3)\n",
      "merged train: (30876, 1, 64) (30876, 3)\n",
      "merged test : (2276, 1, 64) (2276, 3)\n",
      "merged train: (30875, 2, 4) (30875, 3)\n",
      "merged test : (2276, 2, 4) (2276, 3)\n"
     ]
    },
    {
     "name": "stderr",
     "output_type": "stream",
     "text": [
      "C:\\Users\\srovi\\anaconda3\\lib\\site-packages\\tensorflow\\python\\keras\\optimizer_v2\\optimizer_v2.py:374: UserWarning: The `lr` argument is deprecated, use `learning_rate` instead.\n",
      "  warnings.warn(\n"
     ]
    },
    {
     "name": "stdout",
     "output_type": "stream",
     "text": [
      "Epoch 1/4\n",
      "965/965 [==============================] - 5s 2ms/step - loss: 0.9950\n",
      "Epoch 2/4\n",
      "965/965 [==============================] - 2s 2ms/step - loss: 0.7620\n",
      "Epoch 3/4\n",
      "965/965 [==============================] - 2s 2ms/step - loss: 0.7608\n",
      "Epoch 4/4\n",
      "965/965 [==============================] - 2s 2ms/step - loss: 0.7218\n",
      "Epoch 1/4\n",
      "965/965 [==============================] - 2s 1ms/step - loss: 1.1669\n",
      "Epoch 2/4\n",
      "965/965 [==============================] - 1s 1ms/step - loss: 0.6870\n",
      "Epoch 3/4\n",
      "965/965 [==============================] - 1s 1ms/step - loss: 0.5296\n",
      "Epoch 4/4\n",
      "965/965 [==============================] - 1s 1ms/step - loss: 0.5211\n",
      "WARNING:tensorflow:No training configuration found in the save file, so the model was *not* compiled. Compile it manually.\n",
      "loaded:  trained_models/c/encoder_loso17.h5\n",
      "emb_trainw1.shape:  (30876, 40)\n",
      "emb_trainw2.shape:  (30875, 4)\n",
      "emb_train.shape:  (30874, 80)\n",
      "emb_testw1.shape:  (2276, 40)\n",
      "emb_testw2.shape:  (2276, 4)\n",
      "emb_test.shape:  (2276, 80)\n"
     ]
    }
   ],
   "source": [
    "ae = autoencoder ()\n",
    "ae.train_model_c ()\n",
    "ae.extract_features()"
   ]
  }
 ],
 "metadata": {
  "kernelspec": {
   "display_name": "Python 3",
   "language": "python",
   "name": "python3"
  },
  "language_info": {
   "codemirror_mode": {
    "name": "ipython",
    "version": 3
   },
   "file_extension": ".py",
   "mimetype": "text/x-python",
   "name": "python",
   "nbconvert_exporter": "python",
   "pygments_lexer": "ipython3",
   "version": "3.8.3"
  }
 },
 "nbformat": 4,
 "nbformat_minor": 4
}
